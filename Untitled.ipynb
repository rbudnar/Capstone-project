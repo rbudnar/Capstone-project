{
 "cells": [
  {
   "cell_type": "code",
   "execution_count": 1,
   "metadata": {},
   "outputs": [
    {
     "name": "stderr",
     "output_type": "stream",
     "text": [
      "Using TensorFlow backend.\n"
     ]
    }
   ],
   "source": [
    "import numpy as np\n",
    "import pandas as pd\n",
    "import matplotlib.pyplot as plt\n",
    "from IPython.display import display # Allows the use of display() for DataFrames\n",
    "import seaborn as sb\n",
    "%matplotlib inline\n",
    "# from keras.applications.densenet import DenseNet121\n",
    "\n",
    "import keras\n",
    "from keras import optimizers\n",
    "from keras.preprocessing.image import ImageDataGenerator\n",
    "from keras.models import Sequential, Model\n",
    "from keras.layers import Input, Conv2D, MaxPooling2D, Activation, Dropout, Flatten, Dense, Add, Concatenate\n",
    "from keras.layers.normalization import BatchNormalization\n",
    "from keras.callbacks import ModelCheckpoint, EarlyStopping, ReduceLROnPlateau, CSVLogger\n",
    "import timeit\n",
    "import os\n",
    "from datetime import datetime\n",
    "import tensorflow as tf\n",
    "from math import ceil\n",
    "from enums import TrainingMode, CellType\n",
    "\n",
    "from main_v2 import (create_multi_generator, build_model, ConvBlock)\n",
    "from preprocessing import (generate_dataframe_from_csv_horizontal, generate_dataframe_from_csv_vertical, \n",
    "                         get_model_inputs)\n",
    "\n",
    "from train import TrainingRunner"
   ]
  },
  {
   "cell_type": "code",
   "execution_count": 2,
   "metadata": {},
   "outputs": [],
   "source": [
    "df = pd.read_csv(\"all_controls_root.csv\")\n"
   ]
  },
  {
   "cell_type": "code",
   "execution_count": 40,
   "metadata": {},
   "outputs": [
    {
     "data": {
      "text/plain": [
       "31"
      ]
     },
     "execution_count": 40,
     "metadata": {},
     "output_type": "execute_result"
    }
   ],
   "source": [
    "rows = df[df[\"cell_type\"] == \"U2OS\"]\n",
    "x = rows[[\"img_path_root\", \"cell_type\"]]\n",
    "y = rows[\"sirna\"]\n",
    "len(y.unique())\n",
    "# df"
   ]
  },
  {
   "cell_type": "code",
   "execution_count": 37,
   "metadata": {},
   "outputs": [],
   "source": [
    "# df.loc[df[\"sirna\"] > 30]\n",
    "df.loc[df[\"sirna\"] > 30, \"sirna\"] = df[df[\"sirna\"] > 30][\"sirna\"] - 1108"
   ]
  },
  {
   "cell_type": "code",
   "execution_count": 42,
   "metadata": {},
   "outputs": [],
   "source": [
    "df.to_csv(\"all_controls_root.csv\", index=False)"
   ]
  },
  {
   "cell_type": "code",
   "execution_count": 2,
   "metadata": {},
   "outputs": [
    {
     "name": "stderr",
     "output_type": "stream",
     "text": [
      "Using TensorFlow backend.\n"
     ]
    }
   ],
   "source": [
    "from keras.utils import Sequence, to_categorical\n",
    "class TestMultiGenerator(Sequence):\n",
    "    def __init__(self, image_filenames,\n",
    "                 batch_size,\n",
    "                 class_count=1108,\n",
    "                 height=224, width=224):\n",
    "        self.image_filenames = image_filenames\n",
    "        self.height = height\n",
    "        self.width = width\n",
    "        self.batch_size = batch_size\n",
    "\n",
    "    def __len__(self):\n",
    "        return int(np.ceil(len(self.image_filenames) / float(self.batch_size)))\n",
    "\n",
    "    def __getitem__(self, idx):\n",
    "        batch_x = self.image_filenames[idx *\n",
    "                                       self.batch_size:(idx + 1) * self.batch_size]\n",
    "\n",
    "        return self.test_generate(batch_x)\n",
    "\n",
    "    def test_generate(self, batch_x):\n",
    "        batch_images = []\n",
    "\n",
    "        for sample in batch_x:\n",
    "            imgs = []\n",
    "            for i in range(1, 7):\n",
    "                img = cv2.imread(f\"{sample}_w{i}.png\")\n",
    "\n",
    "                imgs.append(img)\n",
    "            batch_images.append(imgs)\n",
    "        imgs = np.array(batch_images, np.float32)/255\n",
    "        print(imgs.shape, imgs)\n",
    "        batch_images = np.transpose(\n",
    "            np.array(batch_images, np.float32)/255, axes=(1, 0, 2, 3, 4))\n",
    "\n",
    "        return [x for x in batch_images]"
   ]
  },
  {
   "cell_type": "code",
   "execution_count": null,
   "metadata": {},
   "outputs": [],
   "source": []
  }
 ],
 "metadata": {
  "kernelspec": {
   "display_name": "ML",
   "language": "python",
   "name": "ml"
  },
  "language_info": {
   "codemirror_mode": {
    "name": "ipython",
    "version": 3
   },
   "file_extension": ".py",
   "mimetype": "text/x-python",
   "name": "python",
   "nbconvert_exporter": "python",
   "pygments_lexer": "ipython3",
   "version": "3.7.3"
  }
 },
 "nbformat": 4,
 "nbformat_minor": 2
}
