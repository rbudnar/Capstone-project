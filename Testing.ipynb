{
 "cells": [
  {
   "cell_type": "code",
   "execution_count": 1,
   "metadata": {},
   "outputs": [
    {
     "name": "stderr",
     "output_type": "stream",
     "text": [
      "Using TensorFlow backend.\n"
     ]
    }
   ],
   "source": [
    "import numpy as np\n",
    "import pandas as pd\n",
    "import matplotlib.pyplot as plt\n",
    "from IPython.display import display # Allows the use of display() for DataFrames\n",
    "import seaborn as sb\n",
    "%matplotlib inline\n",
    "from main_v2 import generate_dataframe_from_csv_horizontal, generate_dataframe_from_csv_vertical, build_cnn_layer, build_sequential_layer, create_multi_generator\n",
    "from data_generator_from_kaggle import MultiGenerator\n",
    "import keras\n",
    "from keras import optimizers\n",
    "from keras.preprocessing.image import ImageDataGenerator\n",
    "from keras.models import Sequential, Model\n",
    "from keras.layers import Input, Conv2D, MaxPooling2D, Activation, Dropout, Flatten, Dense, Add, Concatenate, BatchNormalization, GlobalAveragePooling2D\n",
    "from keras.callbacks import ModelCheckpoint, EarlyStopping, ReduceLROnPlateau, CSVLogger\n",
    "from sklearn.model_selection import train_test_split\n",
    "import os\n",
    "from datetime import datetime\n",
    "import tensorflow as tf\n",
    "from math import ceil"
   ]
  },
  {
   "cell_type": "code",
   "execution_count": 2,
   "metadata": {
    "scrolled": false
   },
   "outputs": [],
   "source": [
    "#df.to_csv(path_or_buf=\"train_1.csv\", index=False)\n",
    "# df3 = generate_dataframe_from_csv_rootpath(\"./train.csv\")\n",
    "# df3.to_csv(path_or_buf=\"train_root.csv\", index=False)\n",
    "# df4 = generate_dataframe_from_csv_horizontal(\"./train.csv\", 6)\n",
    "# df4.to_csv(path_or_buf=\"train_6.csv\", index=False)\n",
    "df3 = pd.read_csv(\"train_root.csv\", dtype={'sirna': object})\n",
    "df4 = pd.read_csv(\"train_6.csv\", dtype={'sirna': object})\n",
    "# display(df4)\n",
    "x = df3[\"img_path_root\"]\n",
    "y = df3[\"sirna\"]"
   ]
  },
  {
   "cell_type": "code",
   "execution_count": 3,
   "metadata": {},
   "outputs": [],
   "source": [
    "train_x, valid_x, train_y, valid_y = train_test_split(x, y, test_size=0.2, stratify=y, random_state=10)"
   ]
  },
  {
   "cell_type": "code",
   "execution_count": 4,
   "metadata": {
    "scrolled": true
   },
   "outputs": [],
   "source": [
    "# display(train_csv)\n",
    "# train_x, valid_x, train_y, valid_y = train_test_split(x, y, test_size=0.15, stratify=y, random_state=10)\n",
    "\n",
    "train_generator = MultiGenerator(train_x, train_y, 32, is_train=True)\n",
    "valid_generator = MultiGenerator(valid_x, valid_y, 32)\n",
    "#print(generator.__len__(), len(df3))\n",
    "# imgs, ys = train_generator.__getitem__(1)\n",
    "# # train_generator.__len__()\n",
    "# print(len(imgs))\n",
    "# print(imgs[0].shape)\n",
    "# keras.utils.to_categorical(ys, 1108).shape"
   ]
  },
  {
   "cell_type": "code",
   "execution_count": 2,
   "metadata": {},
   "outputs": [
    {
     "name": "stdout",
     "output_type": "stream",
     "text": [
      "WARNING:tensorflow:From C:\\ProgramData\\Anaconda3\\envs\\ml\\lib\\site-packages\\tensorflow\\python\\framework\\op_def_library.py:263: colocate_with (from tensorflow.python.framework.ops) is deprecated and will be removed in a future version.\n",
      "Instructions for updating:\n",
      "Colocations handled automatically by placer.\n",
      "__________________________________________________________________________________________________\n",
      "Layer (type)                    Output Shape         Param #     Connected to                     \n",
      "==================================================================================================\n",
      "inputlayer_0 (InputLayer)       (None, 224, 224, 3)  0                                            \n",
      "__________________________________________________________________________________________________\n",
      "inputlayer_1 (InputLayer)       (None, 224, 224, 3)  0                                            \n",
      "__________________________________________________________________________________________________\n",
      "inputlayer_2 (InputLayer)       (None, 224, 224, 3)  0                                            \n",
      "__________________________________________________________________________________________________\n",
      "inputlayer_3 (InputLayer)       (None, 224, 224, 3)  0                                            \n",
      "__________________________________________________________________________________________________\n",
      "inputlayer_4 (InputLayer)       (None, 224, 224, 3)  0                                            \n",
      "__________________________________________________________________________________________________\n",
      "inputlayer_5 (InputLayer)       (None, 224, 224, 3)  0                                            \n",
      "__________________________________________________________________________________________________\n",
      "conv2d_1 (Conv2D)               (None, 224, 224, 32) 2432        inputlayer_0[0][0]               \n",
      "__________________________________________________________________________________________________\n",
      "conv2d_6 (Conv2D)               (None, 224, 224, 32) 2432        inputlayer_1[0][0]               \n",
      "__________________________________________________________________________________________________\n",
      "conv2d_11 (Conv2D)              (None, 224, 224, 32) 2432        inputlayer_2[0][0]               \n",
      "__________________________________________________________________________________________________\n",
      "conv2d_16 (Conv2D)              (None, 224, 224, 32) 2432        inputlayer_3[0][0]               \n",
      "__________________________________________________________________________________________________\n",
      "conv2d_21 (Conv2D)              (None, 224, 224, 32) 2432        inputlayer_4[0][0]               \n",
      "__________________________________________________________________________________________________\n",
      "conv2d_26 (Conv2D)              (None, 224, 224, 32) 2432        inputlayer_5[0][0]               \n",
      "__________________________________________________________________________________________________\n",
      "bn_cnn_1_0 (BatchNormalization) (None, 224, 224, 32) 128         conv2d_1[0][0]                   \n",
      "__________________________________________________________________________________________________\n",
      "bn_cnn_1_1 (BatchNormalization) (None, 224, 224, 32) 128         conv2d_6[0][0]                   \n",
      "__________________________________________________________________________________________________\n",
      "bn_cnn_1_2 (BatchNormalization) (None, 224, 224, 32) 128         conv2d_11[0][0]                  \n",
      "__________________________________________________________________________________________________\n",
      "bn_cnn_1_3 (BatchNormalization) (None, 224, 224, 32) 128         conv2d_16[0][0]                  \n",
      "__________________________________________________________________________________________________\n",
      "bn_cnn_1_4 (BatchNormalization) (None, 224, 224, 32) 128         conv2d_21[0][0]                  \n",
      "__________________________________________________________________________________________________\n",
      "bn_cnn_1_5 (BatchNormalization) (None, 224, 224, 32) 128         conv2d_26[0][0]                  \n",
      "__________________________________________________________________________________________________\n",
      "max_pooling2d_1 (MaxPooling2D)  (None, 112, 112, 32) 0           bn_cnn_1_0[0][0]                 \n",
      "__________________________________________________________________________________________________\n",
      "max_pooling2d_5 (MaxPooling2D)  (None, 112, 112, 32) 0           bn_cnn_1_1[0][0]                 \n",
      "__________________________________________________________________________________________________\n",
      "max_pooling2d_9 (MaxPooling2D)  (None, 112, 112, 32) 0           bn_cnn_1_2[0][0]                 \n",
      "__________________________________________________________________________________________________\n",
      "max_pooling2d_13 (MaxPooling2D) (None, 112, 112, 32) 0           bn_cnn_1_3[0][0]                 \n",
      "__________________________________________________________________________________________________\n",
      "max_pooling2d_17 (MaxPooling2D) (None, 112, 112, 32) 0           bn_cnn_1_4[0][0]                 \n",
      "__________________________________________________________________________________________________\n",
      "max_pooling2d_21 (MaxPooling2D) (None, 112, 112, 32) 0           bn_cnn_1_5[0][0]                 \n",
      "__________________________________________________________________________________________________\n",
      "conv2d_2 (Conv2D)               (None, 112, 112, 64) 18496       max_pooling2d_1[0][0]            \n",
      "__________________________________________________________________________________________________\n",
      "conv2d_7 (Conv2D)               (None, 112, 112, 64) 18496       max_pooling2d_5[0][0]            \n",
      "__________________________________________________________________________________________________\n",
      "conv2d_12 (Conv2D)              (None, 112, 112, 64) 18496       max_pooling2d_9[0][0]            \n",
      "__________________________________________________________________________________________________\n",
      "conv2d_17 (Conv2D)              (None, 112, 112, 64) 18496       max_pooling2d_13[0][0]           \n",
      "__________________________________________________________________________________________________\n",
      "conv2d_22 (Conv2D)              (None, 112, 112, 64) 18496       max_pooling2d_17[0][0]           \n",
      "__________________________________________________________________________________________________\n",
      "conv2d_27 (Conv2D)              (None, 112, 112, 64) 18496       max_pooling2d_21[0][0]           \n",
      "__________________________________________________________________________________________________\n",
      "bn_cnn_2_0 (BatchNormalization) (None, 112, 112, 64) 256         conv2d_2[0][0]                   \n",
      "__________________________________________________________________________________________________\n",
      "bn_cnn_2_1 (BatchNormalization) (None, 112, 112, 64) 256         conv2d_7[0][0]                   \n",
      "__________________________________________________________________________________________________\n",
      "bn_cnn_2_2 (BatchNormalization) (None, 112, 112, 64) 256         conv2d_12[0][0]                  \n",
      "__________________________________________________________________________________________________\n",
      "bn_cnn_2_3 (BatchNormalization) (None, 112, 112, 64) 256         conv2d_17[0][0]                  \n",
      "__________________________________________________________________________________________________\n",
      "bn_cnn_2_4 (BatchNormalization) (None, 112, 112, 64) 256         conv2d_22[0][0]                  \n",
      "__________________________________________________________________________________________________\n",
      "bn_cnn_2_5 (BatchNormalization) (None, 112, 112, 64) 256         conv2d_27[0][0]                  \n",
      "__________________________________________________________________________________________________\n",
      "max_pooling2d_2 (MaxPooling2D)  (None, 56, 56, 64)   0           bn_cnn_2_0[0][0]                 \n",
      "__________________________________________________________________________________________________\n",
      "max_pooling2d_6 (MaxPooling2D)  (None, 56, 56, 64)   0           bn_cnn_2_1[0][0]                 \n",
      "__________________________________________________________________________________________________\n",
      "max_pooling2d_10 (MaxPooling2D) (None, 56, 56, 64)   0           bn_cnn_2_2[0][0]                 \n",
      "__________________________________________________________________________________________________\n",
      "max_pooling2d_14 (MaxPooling2D) (None, 56, 56, 64)   0           bn_cnn_2_3[0][0]                 \n",
      "__________________________________________________________________________________________________\n",
      "max_pooling2d_18 (MaxPooling2D) (None, 56, 56, 64)   0           bn_cnn_2_4[0][0]                 \n",
      "__________________________________________________________________________________________________\n",
      "max_pooling2d_22 (MaxPooling2D) (None, 56, 56, 64)   0           bn_cnn_2_5[0][0]                 \n",
      "__________________________________________________________________________________________________\n",
      "conv2d_3 (Conv2D)               (None, 56, 56, 128)  73856       max_pooling2d_2[0][0]            \n",
      "__________________________________________________________________________________________________\n",
      "conv2d_8 (Conv2D)               (None, 56, 56, 128)  73856       max_pooling2d_6[0][0]            \n",
      "__________________________________________________________________________________________________\n",
      "conv2d_13 (Conv2D)              (None, 56, 56, 128)  73856       max_pooling2d_10[0][0]           \n",
      "__________________________________________________________________________________________________\n",
      "conv2d_18 (Conv2D)              (None, 56, 56, 128)  73856       max_pooling2d_14[0][0]           \n",
      "__________________________________________________________________________________________________\n",
      "conv2d_23 (Conv2D)              (None, 56, 56, 128)  73856       max_pooling2d_18[0][0]           \n",
      "__________________________________________________________________________________________________\n",
      "conv2d_28 (Conv2D)              (None, 56, 56, 128)  73856       max_pooling2d_22[0][0]           \n",
      "__________________________________________________________________________________________________\n",
      "bn_cnn_3_0 (BatchNormalization) (None, 56, 56, 128)  512         conv2d_3[0][0]                   \n",
      "__________________________________________________________________________________________________\n",
      "bn_cnn_3_1 (BatchNormalization) (None, 56, 56, 128)  512         conv2d_8[0][0]                   \n",
      "__________________________________________________________________________________________________\n",
      "bn_cnn_3_2 (BatchNormalization) (None, 56, 56, 128)  512         conv2d_13[0][0]                  \n",
      "__________________________________________________________________________________________________\n",
      "bn_cnn_3_3 (BatchNormalization) (None, 56, 56, 128)  512         conv2d_18[0][0]                  \n",
      "__________________________________________________________________________________________________\n",
      "bn_cnn_3_4 (BatchNormalization) (None, 56, 56, 128)  512         conv2d_23[0][0]                  \n",
      "__________________________________________________________________________________________________\n",
      "bn_cnn_3_5 (BatchNormalization) (None, 56, 56, 128)  512         conv2d_28[0][0]                  \n",
      "__________________________________________________________________________________________________\n",
      "max_pooling2d_3 (MaxPooling2D)  (None, 28, 28, 128)  0           bn_cnn_3_0[0][0]                 \n",
      "__________________________________________________________________________________________________\n",
      "max_pooling2d_7 (MaxPooling2D)  (None, 28, 28, 128)  0           bn_cnn_3_1[0][0]                 \n",
      "__________________________________________________________________________________________________\n",
      "max_pooling2d_11 (MaxPooling2D) (None, 28, 28, 128)  0           bn_cnn_3_2[0][0]                 \n",
      "__________________________________________________________________________________________________\n",
      "max_pooling2d_15 (MaxPooling2D) (None, 28, 28, 128)  0           bn_cnn_3_3[0][0]                 \n",
      "__________________________________________________________________________________________________\n",
      "max_pooling2d_19 (MaxPooling2D) (None, 28, 28, 128)  0           bn_cnn_3_4[0][0]                 \n",
      "__________________________________________________________________________________________________\n",
      "max_pooling2d_23 (MaxPooling2D) (None, 28, 28, 128)  0           bn_cnn_3_5[0][0]                 \n",
      "__________________________________________________________________________________________________\n",
      "conv2d_4 (Conv2D)               (None, 28, 28, 256)  295168      max_pooling2d_3[0][0]            \n",
      "__________________________________________________________________________________________________\n",
      "conv2d_9 (Conv2D)               (None, 28, 28, 256)  295168      max_pooling2d_7[0][0]            \n",
      "__________________________________________________________________________________________________\n",
      "conv2d_14 (Conv2D)              (None, 28, 28, 256)  295168      max_pooling2d_11[0][0]           \n",
      "__________________________________________________________________________________________________\n",
      "conv2d_19 (Conv2D)              (None, 28, 28, 256)  295168      max_pooling2d_15[0][0]           \n",
      "__________________________________________________________________________________________________\n",
      "conv2d_24 (Conv2D)              (None, 28, 28, 256)  295168      max_pooling2d_19[0][0]           \n",
      "__________________________________________________________________________________________________\n",
      "conv2d_29 (Conv2D)              (None, 28, 28, 256)  295168      max_pooling2d_23[0][0]           \n",
      "__________________________________________________________________________________________________\n",
      "bn_cnn_4_0 (BatchNormalization) (None, 28, 28, 256)  1024        conv2d_4[0][0]                   \n",
      "__________________________________________________________________________________________________\n",
      "bn_cnn_4_1 (BatchNormalization) (None, 28, 28, 256)  1024        conv2d_9[0][0]                   \n",
      "__________________________________________________________________________________________________\n",
      "bn_cnn_4_2 (BatchNormalization) (None, 28, 28, 256)  1024        conv2d_14[0][0]                  \n",
      "__________________________________________________________________________________________________\n",
      "bn_cnn_4_3 (BatchNormalization) (None, 28, 28, 256)  1024        conv2d_19[0][0]                  \n",
      "__________________________________________________________________________________________________\n",
      "bn_cnn_4_4 (BatchNormalization) (None, 28, 28, 256)  1024        conv2d_24[0][0]                  \n",
      "__________________________________________________________________________________________________\n",
      "bn_cnn_4_5 (BatchNormalization) (None, 28, 28, 256)  1024        conv2d_29[0][0]                  \n",
      "__________________________________________________________________________________________________\n",
      "max_pooling2d_4 (MaxPooling2D)  (None, 14, 14, 256)  0           bn_cnn_4_0[0][0]                 \n",
      "__________________________________________________________________________________________________\n",
      "max_pooling2d_8 (MaxPooling2D)  (None, 14, 14, 256)  0           bn_cnn_4_1[0][0]                 \n",
      "__________________________________________________________________________________________________\n",
      "max_pooling2d_12 (MaxPooling2D) (None, 14, 14, 256)  0           bn_cnn_4_2[0][0]                 \n",
      "__________________________________________________________________________________________________\n",
      "max_pooling2d_16 (MaxPooling2D) (None, 14, 14, 256)  0           bn_cnn_4_3[0][0]                 \n",
      "__________________________________________________________________________________________________\n",
      "max_pooling2d_20 (MaxPooling2D) (None, 14, 14, 256)  0           bn_cnn_4_4[0][0]                 \n",
      "__________________________________________________________________________________________________\n",
      "max_pooling2d_24 (MaxPooling2D) (None, 14, 14, 256)  0           bn_cnn_4_5[0][0]                 \n",
      "__________________________________________________________________________________________________\n",
      "conv2d_5 (Conv2D)               (None, 14, 14, 512)  1180160     max_pooling2d_4[0][0]            \n",
      "__________________________________________________________________________________________________\n",
      "conv2d_10 (Conv2D)              (None, 14, 14, 512)  1180160     max_pooling2d_8[0][0]            \n",
      "__________________________________________________________________________________________________\n",
      "conv2d_15 (Conv2D)              (None, 14, 14, 512)  1180160     max_pooling2d_12[0][0]           \n",
      "__________________________________________________________________________________________________\n",
      "conv2d_20 (Conv2D)              (None, 14, 14, 512)  1180160     max_pooling2d_16[0][0]           \n",
      "__________________________________________________________________________________________________\n",
      "conv2d_25 (Conv2D)              (None, 14, 14, 512)  1180160     max_pooling2d_20[0][0]           \n",
      "__________________________________________________________________________________________________\n",
      "conv2d_30 (Conv2D)              (None, 14, 14, 512)  1180160     max_pooling2d_24[0][0]           \n",
      "__________________________________________________________________________________________________\n",
      "bn_cnn_5_0 (BatchNormalization) (None, 14, 14, 512)  2048        conv2d_5[0][0]                   \n",
      "__________________________________________________________________________________________________\n",
      "bn_cnn_5_1 (BatchNormalization) (None, 14, 14, 512)  2048        conv2d_10[0][0]                  \n",
      "__________________________________________________________________________________________________\n",
      "bn_cnn_5_2 (BatchNormalization) (None, 14, 14, 512)  2048        conv2d_15[0][0]                  \n",
      "__________________________________________________________________________________________________\n",
      "bn_cnn_5_3 (BatchNormalization) (None, 14, 14, 512)  2048        conv2d_20[0][0]                  \n",
      "__________________________________________________________________________________________________\n",
      "bn_cnn_5_4 (BatchNormalization) (None, 14, 14, 512)  2048        conv2d_25[0][0]                  \n",
      "__________________________________________________________________________________________________\n",
      "bn_cnn_5_5 (BatchNormalization) (None, 14, 14, 512)  2048        conv2d_30[0][0]                  \n",
      "__________________________________________________________________________________________________\n",
      "global_average_pooling2d_1 (Glo (None, 512)          0           bn_cnn_5_0[0][0]                 \n",
      "__________________________________________________________________________________________________\n",
      "global_average_pooling2d_2 (Glo (None, 512)          0           bn_cnn_5_1[0][0]                 \n",
      "__________________________________________________________________________________________________\n",
      "global_average_pooling2d_3 (Glo (None, 512)          0           bn_cnn_5_2[0][0]                 \n",
      "__________________________________________________________________________________________________\n",
      "global_average_pooling2d_4 (Glo (None, 512)          0           bn_cnn_5_3[0][0]                 \n",
      "__________________________________________________________________________________________________\n",
      "global_average_pooling2d_5 (Glo (None, 512)          0           bn_cnn_5_4[0][0]                 \n",
      "__________________________________________________________________________________________________\n",
      "global_average_pooling2d_6 (Glo (None, 512)          0           bn_cnn_5_5[0][0]                 \n",
      "__________________________________________________________________________________________________\n",
      "concatenate_1 (Concatenate)     (None, 3072)         0           global_average_pooling2d_1[0][0] \n",
      "                                                                 global_average_pooling2d_2[0][0] \n",
      "                                                                 global_average_pooling2d_3[0][0] \n",
      "                                                                 global_average_pooling2d_4[0][0] \n",
      "                                                                 global_average_pooling2d_5[0][0] \n",
      "                                                                 global_average_pooling2d_6[0][0] \n",
      "__________________________________________________________________________________________________\n",
      "batch_norm_1 (BatchNormalizatio (None, 3072)         12288       concatenate_1[0][0]              \n",
      "__________________________________________________________________________________________________\n",
      "act_layer (Activation)          (None, 3072)         0           batch_norm_1[0][0]               \n",
      "__________________________________________________________________________________________________\n",
      "dense_1 (Dense)                 (None, 1108)         3404884     act_layer[0][0]                  \n",
      "==================================================================================================\n",
      "Total params: 12,861,652\n",
      "Trainable params: 12,843,604\n",
      "Non-trainable params: 18,048\n",
      "__________________________________________________________________________________________________\n"
     ]
    }
   ],
   "source": [
    "cnn_layers = []\n",
    "for i in range(0, 6):\n",
    "    layer = build_cnn_layer(i)\n",
    "    cnn_layers.append(layer)\n",
    "\n",
    "output_layer = build_sequential_layer(cnn_layers)\n",
    "\n",
    "model = Model(inputs=[x.input for x in cnn_layers], outputs=output_layer)\n",
    "optimizer = optimizers.Adam()    \n",
    "model.compile(optimizer, loss='categorical_crossentropy', metrics=['accuracy'])\n",
    "model.summary()"
   ]
  },
  {
   "cell_type": "code",
   "execution_count": null,
   "metadata": {},
   "outputs": [
    {
     "name": "stdout",
     "output_type": "stream",
     "text": [
      "WARNING:tensorflow:From C:\\ProgramData\\Anaconda3\\envs\\ml\\lib\\site-packages\\tensorflow\\python\\ops\\math_ops.py:3066: to_int32 (from tensorflow.python.ops.math_ops) is deprecated and will be removed in a future version.\n",
      "Instructions for updating:\n",
      "Use tf.cast instead.\n",
      "Epoch 1/20\n",
      "1826/1826 [==============================] - 1532s 839ms/step - loss: 8.5495 - acc: 0.0025 - val_loss: 15.8164 - val_acc: 9.5851e-04\n",
      "Epoch 2/20\n",
      "  25/1826 [..............................] - ETA: 12:19 - loss: 7.2741 - acc: 0.0100"
     ]
    }
   ],
   "source": [
    "logdir = os.path.join(\"logs\", datetime.now().strftime(\"%Y%m%d-%H%M%S\"))\n",
    "tensorboard_callback = keras.callbacks.TensorBoard(log_dir=logdir)\n",
    "\n",
    "reduceLROnPlat = ReduceLROnPlateau(monitor='val_loss', factor=0.5, patience=3, verbose=1, mode='auto', min_delta=0.0001)\n",
    "early = EarlyStopping(monitor=\"val_loss\", \n",
    "                      mode=\"min\", \n",
    "                      patience=15)\n",
    "\n",
    "csv_logger = CSVLogger(filename='./training_log.csv',\n",
    "                       separator=',',\n",
    "                       append=True)\n",
    "checkpointer = ModelCheckpoint(filepath='saved_models/weights.best.from_scratch.hdf5', verbose=1, save_best_only=True)\n",
    "\n",
    "callbacks = [checkpointer, reduceLROnPlat, early, csv_logger, tensorboard_callback]\n",
    "keras.backend.get_session().run(tf.global_variables_initializer())\n",
    "\n",
    "model.fit_generator(train_generator, \n",
    "        steps_per_epoch=train_generator.__len__(),\n",
    "        validation_data=valid_generator,\n",
    "        validation_steps=valid_generator.__len__(), \n",
    "        epochs=20, verbose=1)"
   ]
  },
  {
   "cell_type": "code",
   "execution_count": 2,
   "metadata": {},
   "outputs": [],
   "source": [
    "train_csv = pd.read_csv(\"./train.csv\")"
   ]
  },
  {
   "cell_type": "code",
   "execution_count": 19,
   "metadata": {},
   "outputs": [
    {
     "data": {
      "text/plain": [
       "0        train/HEPG2-01/Plate1/B03_s1\n",
       "1        train/HEPG2-01/Plate1/B03_s2\n",
       "2        train/HEPG2-01/Plate1/B04_s1\n",
       "3        train/HEPG2-01/Plate1/B04_s2\n",
       "4        train/HEPG2-01/Plate1/B05_s1\n",
       "                     ...             \n",
       "73025     train/U2OS-03/Plate4/O21_s2\n",
       "73026     train/U2OS-03/Plate4/O22_s1\n",
       "73027     train/U2OS-03/Plate4/O22_s2\n",
       "73028     train/U2OS-03/Plate4/O23_s1\n",
       "73029     train/U2OS-03/Plate4/O23_s2\n",
       "Name: img_path_root, Length: 73030, dtype: object"
      ]
     },
     "metadata": {},
     "output_type": "display_data"
    }
   ],
   "source": [
    "display(df3[\"img_path_root\"])"
   ]
  },
  {
   "cell_type": "code",
   "execution_count": 42,
   "metadata": {},
   "outputs": [
    {
     "data": {
      "text/plain": [
       "0    train/HEPG2-01/Plate1/B03_s1\n",
       "1    train/HEPG2-01/Plate1/B03_s2\n",
       "2    train/HEPG2-01/Plate1/B04_s1\n",
       "Name: img_path_root, dtype: object"
      ]
     },
     "metadata": {},
     "output_type": "display_data"
    },
    {
     "name": "stdout",
     "output_type": "stream",
     "text": [
      "train/HEPG2-01/Plate1/B03_s1\n",
      "train/HEPG2-01/Plate1/B03_s2\n",
      "train/HEPG2-01/Plate1/B04_s1\n"
     ]
    },
    {
     "data": {
      "text/plain": [
       "[['train/HEPG2-01/Plate1/B03_s1_w1.png',\n",
       "  'train/HEPG2-01/Plate1/B03_s1_w2.png',\n",
       "  'train/HEPG2-01/Plate1/B03_s1_w3.png',\n",
       "  'train/HEPG2-01/Plate1/B03_s1_w4.png',\n",
       "  'train/HEPG2-01/Plate1/B03_s1_w5.png',\n",
       "  'train/HEPG2-01/Plate1/B03_s1_w6.png'],\n",
       " ['train/HEPG2-01/Plate1/B03_s2_w1.png',\n",
       "  'train/HEPG2-01/Plate1/B03_s2_w2.png',\n",
       "  'train/HEPG2-01/Plate1/B03_s2_w3.png',\n",
       "  'train/HEPG2-01/Plate1/B03_s2_w4.png',\n",
       "  'train/HEPG2-01/Plate1/B03_s2_w5.png',\n",
       "  'train/HEPG2-01/Plate1/B03_s2_w6.png'],\n",
       " ['train/HEPG2-01/Plate1/B04_s1_w1.png',\n",
       "  'train/HEPG2-01/Plate1/B04_s1_w2.png',\n",
       "  'train/HEPG2-01/Plate1/B04_s1_w3.png',\n",
       "  'train/HEPG2-01/Plate1/B04_s1_w4.png',\n",
       "  'train/HEPG2-01/Plate1/B04_s1_w5.png',\n",
       "  'train/HEPG2-01/Plate1/B04_s1_w6.png']]"
      ]
     },
     "metadata": {},
     "output_type": "display_data"
    },
    {
     "data": {
      "text/plain": [
       "6"
      ]
     },
     "metadata": {},
     "output_type": "display_data"
    }
   ],
   "source": [
    "samples = df3[\"img_path_root\"][:3]\n",
    "display(samples)\n",
    "batches = []\n",
    "\n",
    "for sample in samples:\n",
    "    print(sample)\n",
    "    imgs = []\n",
    "    for i in range(1, 7):\n",
    "        imgs.append(f\"{sample}_w{i}.png\")\n",
    "    batches.append(imgs)\n",
    "\n",
    "display(batches)\n",
    "b = np.transpose(batches)\n",
    "display(len(b))"
   ]
  },
  {
   "cell_type": "code",
   "execution_count": 27,
   "metadata": {},
   "outputs": [],
   "source": [
    "# train_datagen = ImageDataGenerator(\n",
    "#     rescale=1./255,\n",
    "#     validation_split=.25)\n",
    "# train_generator2 = create_multi_generator(df4, train_datagen, \"training\") \n",
    "# valid_generator2 = create_multi_generator(df4, train_datagen, \"validation\") "
   ]
  },
  {
   "cell_type": "code",
   "execution_count": 21,
   "metadata": {},
   "outputs": [],
   "source": [
    "# df2 = pd.read_csv(\"./train_1.csv\")\n",
    "# display(df2)"
   ]
  },
  {
   "cell_type": "code",
   "execution_count": 9,
   "metadata": {},
   "outputs": [],
   "source": [
    "x = df2[\"img_path\"]\n",
    "y = df2[\"sirna\"]"
   ]
  },
  {
   "cell_type": "code",
   "execution_count": 11,
   "metadata": {},
   "outputs": [],
   "source": [
    "from sklearn.utils import class_weight, shuffle\n",
    "x, y = shuffle(x,y, random_state=10)"
   ]
  },
  {
   "cell_type": "code",
   "execution_count": 14,
   "metadata": {},
   "outputs": [
    {
     "data": {
      "text/plain": [
       "(73030,)"
      ]
     },
     "execution_count": 14,
     "metadata": {},
     "output_type": "execute_result"
    }
   ],
   "source": [
    "x.shape"
   ]
  },
  {
   "cell_type": "code",
   "execution_count": 46,
   "metadata": {},
   "outputs": [
    {
     "data": {
      "text/plain": [
       "array([[4, 2, 3, 1],\n",
       "       [1, 3, 4, 2],\n",
       "       [2, 4, 1, 3],\n",
       "       [1, 3, 4, 2],\n",
       "       [3, 1, 2, 4],\n",
       "       [1, 3, 4, 2],\n",
       "       [1, 3, 4, 2],\n",
       "       [2, 4, 1, 3],\n",
       "       [1, 3, 4, 2],\n",
       "       [4, 2, 3, 1]])"
      ]
     },
     "execution_count": 46,
     "metadata": {},
     "output_type": "execute_result"
    }
   ],
   "source": [
    "plate_groups = np.zeros((1108,4), int)\n",
    "for sirna in range(1108):\n",
    "    grp = train_csv.loc[train_csv.sirna==sirna,:].plate.value_counts().index.values\n",
    "#     print(grp)\n",
    "    assert len(grp) == 3\n",
    "    plate_groups[sirna,0:3] = grp\n",
    "    plate_groups[sirna,3] = 10 - grp.sum()\n",
    "    \n",
    "plate_groups[:10,:]"
   ]
  },
  {
   "cell_type": "code",
   "execution_count": 44,
   "metadata": {},
   "outputs": [
    {
     "data": {
      "text/plain": [
       "array([1, 3, 4], dtype=int64)"
      ]
     },
     "execution_count": 44,
     "metadata": {},
     "output_type": "execute_result"
    }
   ],
   "source": [
    "train_csv.loc[train_csv.sirna==1].plate.value_counts().index.values"
   ]
  },
  {
   "cell_type": "code",
   "execution_count": 47,
   "metadata": {},
   "outputs": [
    {
     "data": {
      "text/plain": [
       "array(['HEPG2-01', 'HEPG2-02', 'HEPG2-03', 'HEPG2-04', 'HEPG2-05',\n",
       "       'HEPG2-06', 'HEPG2-07', 'HUVEC-01', 'HUVEC-02', 'HUVEC-03',\n",
       "       'HUVEC-04', 'HUVEC-05', 'HUVEC-06', 'HUVEC-07', 'HUVEC-08',\n",
       "       'HUVEC-09', 'HUVEC-10', 'HUVEC-11', 'HUVEC-12', 'HUVEC-13',\n",
       "       'HUVEC-14', 'HUVEC-15', 'HUVEC-16', 'RPE-01', 'RPE-02', 'RPE-03',\n",
       "       'RPE-04', 'RPE-05', 'RPE-06', 'RPE-07', 'U2OS-01', 'U2OS-02',\n",
       "       'U2OS-03'], dtype=object)"
      ]
     },
     "execution_count": 47,
     "metadata": {},
     "output_type": "execute_result"
    }
   ],
   "source": [
    "train_csv.experiment.unique()"
   ]
  },
  {
   "cell_type": "code",
   "execution_count": null,
   "metadata": {},
   "outputs": [],
   "source": [
    "all_test_exp = test_csv.experiment.unique()\n",
    "\n",
    "group_plate_probs = np.zeros((len(all_test_exp),4))\n",
    "for idx in range(len(all_test_exp)):\n",
    "    preds = sub.loc[test_csv.experiment == all_test_exp[idx],'sirna'].values\n",
    "    pp_mult = np.zeros((len(preds),1108))\n",
    "    pp_mult[range(len(preds)),preds] = 1\n",
    "    \n",
    "    sub_test = test_csv.loc[test_csv.experiment == all_test_exp[idx],:]\n",
    "    assert len(pp_mult) == len(sub_test)\n",
    "    \n",
    "    for j in range(4):\n",
    "        mask = np.repeat(plate_groups[np.newaxis, :, j], len(pp_mult), axis=0) == \\\n",
    "               np.repeat(sub_test.plate.values[:, np.newaxis], 1108, axis=1)\n",
    "        \n",
    "        group_plate_probs[idx,j] = np.array(pp_mult)[mask].sum()/len(pp_mult)"
   ]
  }
 ],
 "metadata": {
  "kernelspec": {
   "display_name": "Python [conda env:ml]",
   "language": "python",
   "name": "conda-env-ml-py"
  },
  "language_info": {
   "codemirror_mode": {
    "name": "ipython",
    "version": 3
   },
   "file_extension": ".py",
   "mimetype": "text/x-python",
   "name": "python",
   "nbconvert_exporter": "python",
   "pygments_lexer": "ipython3",
   "version": "3.7.3"
  }
 },
 "nbformat": 4,
 "nbformat_minor": 2
}
